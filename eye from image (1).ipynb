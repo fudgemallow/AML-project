{
 "cells": [
  {
   "cell_type": "code",
   "execution_count": 24,
   "id": "da0ada25",
   "metadata": {},
   "outputs": [
    {
     "name": "stdout",
     "output_type": "stream",
     "text": [
      "270\n",
      "900\n",
      "1020\n",
      "     eye_y_pos  eye_x_pos  eye_width  eye_height\n",
      "0           45         45         73          90\n",
      "1           48         48         82          95\n",
      "2           43         43        164          86\n",
      "3           47         47         83          89\n",
      "4           48         48         67          78\n",
      "..         ...        ...        ...         ...\n",
      "136         41         41        200         108\n",
      "137         42         42        194         105\n",
      "138         42         42        186          95\n",
      "139         40         40        202         110\n",
      "140         41         41        191         101\n",
      "\n",
      "[141 rows x 4 columns]\n",
      "     eye_y_pos  eye_x_pos  eye_width  eye_height\n",
      "0           44         44        183          91\n",
      "1           44         44        190          98\n",
      "2          100        100        102          59\n",
      "3           42         42        191          97\n",
      "4           43         43        175          83\n",
      "..         ...        ...        ...         ...\n",
      "136         53         53         89          92\n",
      "137         51         51         87          91\n",
      "138         50         50         74          82\n",
      "139         47         47         96          98\n",
      "140         50         50         83          87\n",
      "\n",
      "[141 rows x 4 columns]\n"
     ]
    }
   ],
   "source": [
    "import numpy as np\n",
    "import cv2\n",
    "import pandas as pd\n",
    "face_classifier=cv2.CascadeClassifier(\"haarcascade_frontalface_default.xml\")\n",
    "eyeclassifier=cv2.CascadeClassifier(\"haarcascade_eye.xml\")\n",
    "\n",
    "\n",
    "#if faces==():\n",
    "#    print(\"No faces in the image\")\n",
    "left_eye_dim=pd.DataFrame(columns={'eye_height','eye_width','eye_x_pos','eye_y_pos'})\n",
    "right_eye_dim=pd.DataFrame(columns={'eye_height','eye_width','eye_x_pos','eye_y_pos'})\n",
    "index=[]\n",
    "i=1\n",
    "while i<=160:\n",
    "    index.append(10*i)\n",
    "    i+=1\n",
    "#print(index)\n",
    "for k in index:\n",
    "    #vidcap = cv2.VideoCapture('Fold1_part1/Fold1_part1/0' + str(j) +'/' + str(i) + '.mov',apiPreference=cv2.CAP_MSMF)\n",
    "    image=cv2.imread('Fold1_part1/data/test_'+str(k)+'.jpg')\n",
    "    #print(image)\n",
    "    #print('Fold1_part1/data/test_'+str(i)+'.jpg')\n",
    "    gray=cv2.cvtColor(image, cv2.COLOR_BGR2GRAY)\n",
    "    faces=face_classifier.detectMultiScale(gray,1.3,5)\n",
    "    #Checks for when face is not detected\n",
    "    if ~np.all(faces):\n",
    "        print(k)\n",
    "    for (x,y,w,h) in faces:\n",
    "        gray_image=gray[y:y+h,x:x+w]\n",
    "        color_image=image[y:y+h,x:x+w]\n",
    "        eyes=eyeclassifier.detectMultiScale(gray_image)\n",
    "        #Checks for when eye is not detected, and makes those values zero\n",
    "        if len(eyes)<2:\n",
    "                print(k)\n",
    "                eyes=[[0,0,0,0],[0,0,0,0]]\n",
    "        #print(eyes.shape)\n",
    "        #print(eyes)\n",
    "        j=0\n",
    "        for (ex,ey,ew,eh) in eyes:\n",
    "            j+=1\n",
    "            if j==1:\n",
    "                left_eye_dim.loc[len(left_eye_dim.index)] = [eh,ew,ex,ey]\n",
    "            elif j==2:\n",
    "                right_eye_dim.loc[len(right_eye_dim.index)] = [eh,ew,ex,ey]\n",
    "        #cv2.rectangle(color_image,(ex,ey),(ex+ew,ey+eh),(0,255,0),2)\n",
    "        #cv2.imshow('Eyes detected',image)\n",
    "        #cv2.waitKey()\n",
    "cv2.destroyAllWindows()"
   ]
  },
  {
   "cell_type": "code",
   "execution_count": null,
   "id": "cef7e673",
   "metadata": {},
   "outputs": [],
   "source": []
  }
 ],
 "metadata": {
  "kernelspec": {
   "display_name": "Python 3 (ipykernel)",
   "language": "python",
   "name": "python3"
  },
  "language_info": {
   "codemirror_mode": {
    "name": "ipython",
    "version": 3
   },
   "file_extension": ".py",
   "mimetype": "text/x-python",
   "name": "python",
   "nbconvert_exporter": "python",
   "pygments_lexer": "ipython3",
   "version": "3.9.12"
  }
 },
 "nbformat": 4,
 "nbformat_minor": 5
}
