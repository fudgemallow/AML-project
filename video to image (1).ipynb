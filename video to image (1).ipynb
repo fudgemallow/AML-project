{
 "cells": [
  {
   "cell_type": "code",
   "execution_count": 5,
   "id": "1fa01621",
   "metadata": {},
   "outputs": [],
   "source": [
    "import cv2\n",
    "\n",
    "def get_frames():\n",
    "    cap = cv2.VideoCapture('Fold1_part1/Fold1_part1/01/0.mov',apiPreference=cv2.CAP_MSMF)\n",
    "    i = 0\n",
    "    # a variable to set how many frames you want to skip\n",
    "    frame_skip = 10\n",
    "    # a variable to keep track of the frame to be saved\n",
    "    frame_count = 0\n",
    "    while cap.isOpened():\n",
    "        ret, frame = cap.read()\n",
    "        if not ret:\n",
    "            break\n",
    "        if i > frame_skip - 1:\n",
    "            frame_count += 1\n",
    "            cv2.imwrite('Fold1_part1/test_'+str(frame_count*frame_skip)+'.jpg', frame)\n",
    "            i = 0\n",
    "            continue\n",
    "        i += 1\n",
    "\n",
    "    cap.release()\n",
    "    cv2.destroyAllWindows()"
   ]
  },
  {
   "cell_type": "code",
   "execution_count": 6,
   "id": "5e4caa73",
   "metadata": {},
   "outputs": [],
   "source": [
    "get_frames()"
   ]
  }
 ],
 "metadata": {
  "kernelspec": {
   "display_name": "Python 3 (ipykernel)",
   "language": "python",
   "name": "python3"
  },
  "language_info": {
   "codemirror_mode": {
    "name": "ipython",
    "version": 3
   },
   "file_extension": ".py",
   "mimetype": "text/x-python",
   "name": "python",
   "nbconvert_exporter": "python",
   "pygments_lexer": "ipython3",
   "version": "3.9.12"
  }
 },
 "nbformat": 4,
 "nbformat_minor": 5
}
